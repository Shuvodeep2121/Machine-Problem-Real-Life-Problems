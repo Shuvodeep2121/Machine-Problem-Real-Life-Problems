{
 "cells": [
  {
   "cell_type": "code",
   "execution_count": 2,
   "metadata": {},
   "outputs": [],
   "source": [
    "import numpy as np\n",
    "import pandas as pd\n",
    "import matplotlib.pyplot as plt"
   ]
  },
  {
   "cell_type": "code",
   "execution_count": 3,
   "metadata": {},
   "outputs": [],
   "source": [
    "from sklearn import datasets\n",
    "url = \"https://archive.ics.uci.edu/ml/machine-learning-databases/iris/iris.data\"\n",
    "\n",
    "#assign colum names to the datasets\n",
    "names = {'sepal-length', 'sepal-width', 'petal-length', 'petal-width', 'class'}\n",
    "#read datasets to pandas dataframe\n",
    "dataset = pd.read_csv(url, names = names)"
   ]
  },
  {
   "cell_type": "code",
   "execution_count": 4,
   "metadata": {},
   "outputs": [
    {
     "name": "stdout",
     "output_type": "stream",
     "text": [
      "     class  petal-width  sepal-width  petal-length    sepal-length\n",
      "0      5.1          3.5          1.4           0.2     Iris-setosa\n",
      "1      4.9          3.0          1.4           0.2     Iris-setosa\n",
      "2      4.7          3.2          1.3           0.2     Iris-setosa\n",
      "3      4.6          3.1          1.5           0.2     Iris-setosa\n",
      "4      5.0          3.6          1.4           0.2     Iris-setosa\n",
      "5      5.4          3.9          1.7           0.4     Iris-setosa\n",
      "6      4.6          3.4          1.4           0.3     Iris-setosa\n",
      "7      5.0          3.4          1.5           0.2     Iris-setosa\n",
      "8      4.4          2.9          1.4           0.2     Iris-setosa\n",
      "9      4.9          3.1          1.5           0.1     Iris-setosa\n",
      "10     5.4          3.7          1.5           0.2     Iris-setosa\n",
      "11     4.8          3.4          1.6           0.2     Iris-setosa\n",
      "12     4.8          3.0          1.4           0.1     Iris-setosa\n",
      "13     4.3          3.0          1.1           0.1     Iris-setosa\n",
      "14     5.8          4.0          1.2           0.2     Iris-setosa\n",
      "15     5.7          4.4          1.5           0.4     Iris-setosa\n",
      "16     5.4          3.9          1.3           0.4     Iris-setosa\n",
      "17     5.1          3.5          1.4           0.3     Iris-setosa\n",
      "18     5.7          3.8          1.7           0.3     Iris-setosa\n",
      "19     5.1          3.8          1.5           0.3     Iris-setosa\n",
      "20     5.4          3.4          1.7           0.2     Iris-setosa\n",
      "21     5.1          3.7          1.5           0.4     Iris-setosa\n",
      "22     4.6          3.6          1.0           0.2     Iris-setosa\n",
      "23     5.1          3.3          1.7           0.5     Iris-setosa\n",
      "24     4.8          3.4          1.9           0.2     Iris-setosa\n",
      "25     5.0          3.0          1.6           0.2     Iris-setosa\n",
      "26     5.0          3.4          1.6           0.4     Iris-setosa\n",
      "27     5.2          3.5          1.5           0.2     Iris-setosa\n",
      "28     5.2          3.4          1.4           0.2     Iris-setosa\n",
      "29     4.7          3.2          1.6           0.2     Iris-setosa\n",
      "..     ...          ...          ...           ...             ...\n",
      "120    6.9          3.2          5.7           2.3  Iris-virginica\n",
      "121    5.6          2.8          4.9           2.0  Iris-virginica\n",
      "122    7.7          2.8          6.7           2.0  Iris-virginica\n",
      "123    6.3          2.7          4.9           1.8  Iris-virginica\n",
      "124    6.7          3.3          5.7           2.1  Iris-virginica\n",
      "125    7.2          3.2          6.0           1.8  Iris-virginica\n",
      "126    6.2          2.8          4.8           1.8  Iris-virginica\n",
      "127    6.1          3.0          4.9           1.8  Iris-virginica\n",
      "128    6.4          2.8          5.6           2.1  Iris-virginica\n",
      "129    7.2          3.0          5.8           1.6  Iris-virginica\n",
      "130    7.4          2.8          6.1           1.9  Iris-virginica\n",
      "131    7.9          3.8          6.4           2.0  Iris-virginica\n",
      "132    6.4          2.8          5.6           2.2  Iris-virginica\n",
      "133    6.3          2.8          5.1           1.5  Iris-virginica\n",
      "134    6.1          2.6          5.6           1.4  Iris-virginica\n",
      "135    7.7          3.0          6.1           2.3  Iris-virginica\n",
      "136    6.3          3.4          5.6           2.4  Iris-virginica\n",
      "137    6.4          3.1          5.5           1.8  Iris-virginica\n",
      "138    6.0          3.0          4.8           1.8  Iris-virginica\n",
      "139    6.9          3.1          5.4           2.1  Iris-virginica\n",
      "140    6.7          3.1          5.6           2.4  Iris-virginica\n",
      "141    6.9          3.1          5.1           2.3  Iris-virginica\n",
      "142    5.8          2.7          5.1           1.9  Iris-virginica\n",
      "143    6.8          3.2          5.9           2.3  Iris-virginica\n",
      "144    6.7          3.3          5.7           2.5  Iris-virginica\n",
      "145    6.7          3.0          5.2           2.3  Iris-virginica\n",
      "146    6.3          2.5          5.0           1.9  Iris-virginica\n",
      "147    6.5          3.0          5.2           2.0  Iris-virginica\n",
      "148    6.2          3.4          5.4           2.3  Iris-virginica\n",
      "149    5.9          3.0          5.1           1.8  Iris-virginica\n",
      "\n",
      "[150 rows x 5 columns]\n"
     ]
    }
   ],
   "source": [
    "print(dataset)"
   ]
  },
  {
   "cell_type": "code",
   "execution_count": 5,
   "metadata": {},
   "outputs": [
    {
     "data": {
      "text/html": [
       "<div>\n",
       "<style scoped>\n",
       "    .dataframe tbody tr th:only-of-type {\n",
       "        vertical-align: middle;\n",
       "    }\n",
       "\n",
       "    .dataframe tbody tr th {\n",
       "        vertical-align: top;\n",
       "    }\n",
       "\n",
       "    .dataframe thead th {\n",
       "        text-align: right;\n",
       "    }\n",
       "</style>\n",
       "<table border=\"1\" class=\"dataframe\">\n",
       "  <thead>\n",
       "    <tr style=\"text-align: right;\">\n",
       "      <th></th>\n",
       "      <th>class</th>\n",
       "      <th>petal-width</th>\n",
       "      <th>sepal-width</th>\n",
       "      <th>petal-length</th>\n",
       "      <th>sepal-length</th>\n",
       "    </tr>\n",
       "  </thead>\n",
       "  <tbody>\n",
       "    <tr>\n",
       "      <th>0</th>\n",
       "      <td>5.1</td>\n",
       "      <td>3.5</td>\n",
       "      <td>1.4</td>\n",
       "      <td>0.2</td>\n",
       "      <td>Iris-setosa</td>\n",
       "    </tr>\n",
       "    <tr>\n",
       "      <th>1</th>\n",
       "      <td>4.9</td>\n",
       "      <td>3.0</td>\n",
       "      <td>1.4</td>\n",
       "      <td>0.2</td>\n",
       "      <td>Iris-setosa</td>\n",
       "    </tr>\n",
       "    <tr>\n",
       "      <th>2</th>\n",
       "      <td>4.7</td>\n",
       "      <td>3.2</td>\n",
       "      <td>1.3</td>\n",
       "      <td>0.2</td>\n",
       "      <td>Iris-setosa</td>\n",
       "    </tr>\n",
       "    <tr>\n",
       "      <th>3</th>\n",
       "      <td>4.6</td>\n",
       "      <td>3.1</td>\n",
       "      <td>1.5</td>\n",
       "      <td>0.2</td>\n",
       "      <td>Iris-setosa</td>\n",
       "    </tr>\n",
       "    <tr>\n",
       "      <th>4</th>\n",
       "      <td>5.0</td>\n",
       "      <td>3.6</td>\n",
       "      <td>1.4</td>\n",
       "      <td>0.2</td>\n",
       "      <td>Iris-setosa</td>\n",
       "    </tr>\n",
       "  </tbody>\n",
       "</table>\n",
       "</div>"
      ],
      "text/plain": [
       "   class  petal-width  sepal-width  petal-length sepal-length\n",
       "0    5.1          3.5          1.4           0.2  Iris-setosa\n",
       "1    4.9          3.0          1.4           0.2  Iris-setosa\n",
       "2    4.7          3.2          1.3           0.2  Iris-setosa\n",
       "3    4.6          3.1          1.5           0.2  Iris-setosa\n",
       "4    5.0          3.6          1.4           0.2  Iris-setosa"
      ]
     },
     "execution_count": 5,
     "metadata": {},
     "output_type": "execute_result"
    }
   ],
   "source": [
    "dataset.head()"
   ]
  },
  {
   "cell_type": "code",
   "execution_count": 6,
   "metadata": {},
   "outputs": [],
   "source": [
    "x = dataset.iloc[:, :-1].values\n",
    "y = dataset.iloc[:, 4].values"
   ]
  },
  {
   "cell_type": "code",
   "execution_count": 7,
   "metadata": {},
   "outputs": [
    {
     "data": {
      "text/plain": [
       "array([[5.1, 3.5, 1.4, 0.2],\n",
       "       [4.9, 3. , 1.4, 0.2],\n",
       "       [4.7, 3.2, 1.3, 0.2],\n",
       "       [4.6, 3.1, 1.5, 0.2],\n",
       "       [5. , 3.6, 1.4, 0.2],\n",
       "       [5.4, 3.9, 1.7, 0.4],\n",
       "       [4.6, 3.4, 1.4, 0.3],\n",
       "       [5. , 3.4, 1.5, 0.2],\n",
       "       [4.4, 2.9, 1.4, 0.2],\n",
       "       [4.9, 3.1, 1.5, 0.1],\n",
       "       [5.4, 3.7, 1.5, 0.2],\n",
       "       [4.8, 3.4, 1.6, 0.2],\n",
       "       [4.8, 3. , 1.4, 0.1],\n",
       "       [4.3, 3. , 1.1, 0.1],\n",
       "       [5.8, 4. , 1.2, 0.2],\n",
       "       [5.7, 4.4, 1.5, 0.4],\n",
       "       [5.4, 3.9, 1.3, 0.4],\n",
       "       [5.1, 3.5, 1.4, 0.3],\n",
       "       [5.7, 3.8, 1.7, 0.3],\n",
       "       [5.1, 3.8, 1.5, 0.3],\n",
       "       [5.4, 3.4, 1.7, 0.2],\n",
       "       [5.1, 3.7, 1.5, 0.4],\n",
       "       [4.6, 3.6, 1. , 0.2],\n",
       "       [5.1, 3.3, 1.7, 0.5],\n",
       "       [4.8, 3.4, 1.9, 0.2],\n",
       "       [5. , 3. , 1.6, 0.2],\n",
       "       [5. , 3.4, 1.6, 0.4],\n",
       "       [5.2, 3.5, 1.5, 0.2],\n",
       "       [5.2, 3.4, 1.4, 0.2],\n",
       "       [4.7, 3.2, 1.6, 0.2],\n",
       "       [4.8, 3.1, 1.6, 0.2],\n",
       "       [5.4, 3.4, 1.5, 0.4],\n",
       "       [5.2, 4.1, 1.5, 0.1],\n",
       "       [5.5, 4.2, 1.4, 0.2],\n",
       "       [4.9, 3.1, 1.5, 0.1],\n",
       "       [5. , 3.2, 1.2, 0.2],\n",
       "       [5.5, 3.5, 1.3, 0.2],\n",
       "       [4.9, 3.1, 1.5, 0.1],\n",
       "       [4.4, 3. , 1.3, 0.2],\n",
       "       [5.1, 3.4, 1.5, 0.2],\n",
       "       [5. , 3.5, 1.3, 0.3],\n",
       "       [4.5, 2.3, 1.3, 0.3],\n",
       "       [4.4, 3.2, 1.3, 0.2],\n",
       "       [5. , 3.5, 1.6, 0.6],\n",
       "       [5.1, 3.8, 1.9, 0.4],\n",
       "       [4.8, 3. , 1.4, 0.3],\n",
       "       [5.1, 3.8, 1.6, 0.2],\n",
       "       [4.6, 3.2, 1.4, 0.2],\n",
       "       [5.3, 3.7, 1.5, 0.2],\n",
       "       [5. , 3.3, 1.4, 0.2],\n",
       "       [7. , 3.2, 4.7, 1.4],\n",
       "       [6.4, 3.2, 4.5, 1.5],\n",
       "       [6.9, 3.1, 4.9, 1.5],\n",
       "       [5.5, 2.3, 4. , 1.3],\n",
       "       [6.5, 2.8, 4.6, 1.5],\n",
       "       [5.7, 2.8, 4.5, 1.3],\n",
       "       [6.3, 3.3, 4.7, 1.6],\n",
       "       [4.9, 2.4, 3.3, 1. ],\n",
       "       [6.6, 2.9, 4.6, 1.3],\n",
       "       [5.2, 2.7, 3.9, 1.4],\n",
       "       [5. , 2. , 3.5, 1. ],\n",
       "       [5.9, 3. , 4.2, 1.5],\n",
       "       [6. , 2.2, 4. , 1. ],\n",
       "       [6.1, 2.9, 4.7, 1.4],\n",
       "       [5.6, 2.9, 3.6, 1.3],\n",
       "       [6.7, 3.1, 4.4, 1.4],\n",
       "       [5.6, 3. , 4.5, 1.5],\n",
       "       [5.8, 2.7, 4.1, 1. ],\n",
       "       [6.2, 2.2, 4.5, 1.5],\n",
       "       [5.6, 2.5, 3.9, 1.1],\n",
       "       [5.9, 3.2, 4.8, 1.8],\n",
       "       [6.1, 2.8, 4. , 1.3],\n",
       "       [6.3, 2.5, 4.9, 1.5],\n",
       "       [6.1, 2.8, 4.7, 1.2],\n",
       "       [6.4, 2.9, 4.3, 1.3],\n",
       "       [6.6, 3. , 4.4, 1.4],\n",
       "       [6.8, 2.8, 4.8, 1.4],\n",
       "       [6.7, 3. , 5. , 1.7],\n",
       "       [6. , 2.9, 4.5, 1.5],\n",
       "       [5.7, 2.6, 3.5, 1. ],\n",
       "       [5.5, 2.4, 3.8, 1.1],\n",
       "       [5.5, 2.4, 3.7, 1. ],\n",
       "       [5.8, 2.7, 3.9, 1.2],\n",
       "       [6. , 2.7, 5.1, 1.6],\n",
       "       [5.4, 3. , 4.5, 1.5],\n",
       "       [6. , 3.4, 4.5, 1.6],\n",
       "       [6.7, 3.1, 4.7, 1.5],\n",
       "       [6.3, 2.3, 4.4, 1.3],\n",
       "       [5.6, 3. , 4.1, 1.3],\n",
       "       [5.5, 2.5, 4. , 1.3],\n",
       "       [5.5, 2.6, 4.4, 1.2],\n",
       "       [6.1, 3. , 4.6, 1.4],\n",
       "       [5.8, 2.6, 4. , 1.2],\n",
       "       [5. , 2.3, 3.3, 1. ],\n",
       "       [5.6, 2.7, 4.2, 1.3],\n",
       "       [5.7, 3. , 4.2, 1.2],\n",
       "       [5.7, 2.9, 4.2, 1.3],\n",
       "       [6.2, 2.9, 4.3, 1.3],\n",
       "       [5.1, 2.5, 3. , 1.1],\n",
       "       [5.7, 2.8, 4.1, 1.3],\n",
       "       [6.3, 3.3, 6. , 2.5],\n",
       "       [5.8, 2.7, 5.1, 1.9],\n",
       "       [7.1, 3. , 5.9, 2.1],\n",
       "       [6.3, 2.9, 5.6, 1.8],\n",
       "       [6.5, 3. , 5.8, 2.2],\n",
       "       [7.6, 3. , 6.6, 2.1],\n",
       "       [4.9, 2.5, 4.5, 1.7],\n",
       "       [7.3, 2.9, 6.3, 1.8],\n",
       "       [6.7, 2.5, 5.8, 1.8],\n",
       "       [7.2, 3.6, 6.1, 2.5],\n",
       "       [6.5, 3.2, 5.1, 2. ],\n",
       "       [6.4, 2.7, 5.3, 1.9],\n",
       "       [6.8, 3. , 5.5, 2.1],\n",
       "       [5.7, 2.5, 5. , 2. ],\n",
       "       [5.8, 2.8, 5.1, 2.4],\n",
       "       [6.4, 3.2, 5.3, 2.3],\n",
       "       [6.5, 3. , 5.5, 1.8],\n",
       "       [7.7, 3.8, 6.7, 2.2],\n",
       "       [7.7, 2.6, 6.9, 2.3],\n",
       "       [6. , 2.2, 5. , 1.5],\n",
       "       [6.9, 3.2, 5.7, 2.3],\n",
       "       [5.6, 2.8, 4.9, 2. ],\n",
       "       [7.7, 2.8, 6.7, 2. ],\n",
       "       [6.3, 2.7, 4.9, 1.8],\n",
       "       [6.7, 3.3, 5.7, 2.1],\n",
       "       [7.2, 3.2, 6. , 1.8],\n",
       "       [6.2, 2.8, 4.8, 1.8],\n",
       "       [6.1, 3. , 4.9, 1.8],\n",
       "       [6.4, 2.8, 5.6, 2.1],\n",
       "       [7.2, 3. , 5.8, 1.6],\n",
       "       [7.4, 2.8, 6.1, 1.9],\n",
       "       [7.9, 3.8, 6.4, 2. ],\n",
       "       [6.4, 2.8, 5.6, 2.2],\n",
       "       [6.3, 2.8, 5.1, 1.5],\n",
       "       [6.1, 2.6, 5.6, 1.4],\n",
       "       [7.7, 3. , 6.1, 2.3],\n",
       "       [6.3, 3.4, 5.6, 2.4],\n",
       "       [6.4, 3.1, 5.5, 1.8],\n",
       "       [6. , 3. , 4.8, 1.8],\n",
       "       [6.9, 3.1, 5.4, 2.1],\n",
       "       [6.7, 3.1, 5.6, 2.4],\n",
       "       [6.9, 3.1, 5.1, 2.3],\n",
       "       [5.8, 2.7, 5.1, 1.9],\n",
       "       [6.8, 3.2, 5.9, 2.3],\n",
       "       [6.7, 3.3, 5.7, 2.5],\n",
       "       [6.7, 3. , 5.2, 2.3],\n",
       "       [6.3, 2.5, 5. , 1.9],\n",
       "       [6.5, 3. , 5.2, 2. ],\n",
       "       [6.2, 3.4, 5.4, 2.3],\n",
       "       [5.9, 3. , 5.1, 1.8]])"
      ]
     },
     "execution_count": 7,
     "metadata": {},
     "output_type": "execute_result"
    }
   ],
   "source": [
    "x"
   ]
  },
  {
   "cell_type": "code",
   "execution_count": 8,
   "metadata": {},
   "outputs": [
    {
     "data": {
      "text/plain": [
       "array(['Iris-setosa', 'Iris-setosa', 'Iris-setosa', 'Iris-setosa',\n",
       "       'Iris-setosa', 'Iris-setosa', 'Iris-setosa', 'Iris-setosa',\n",
       "       'Iris-setosa', 'Iris-setosa', 'Iris-setosa', 'Iris-setosa',\n",
       "       'Iris-setosa', 'Iris-setosa', 'Iris-setosa', 'Iris-setosa',\n",
       "       'Iris-setosa', 'Iris-setosa', 'Iris-setosa', 'Iris-setosa',\n",
       "       'Iris-setosa', 'Iris-setosa', 'Iris-setosa', 'Iris-setosa',\n",
       "       'Iris-setosa', 'Iris-setosa', 'Iris-setosa', 'Iris-setosa',\n",
       "       'Iris-setosa', 'Iris-setosa', 'Iris-setosa', 'Iris-setosa',\n",
       "       'Iris-setosa', 'Iris-setosa', 'Iris-setosa', 'Iris-setosa',\n",
       "       'Iris-setosa', 'Iris-setosa', 'Iris-setosa', 'Iris-setosa',\n",
       "       'Iris-setosa', 'Iris-setosa', 'Iris-setosa', 'Iris-setosa',\n",
       "       'Iris-setosa', 'Iris-setosa', 'Iris-setosa', 'Iris-setosa',\n",
       "       'Iris-setosa', 'Iris-setosa', 'Iris-versicolor', 'Iris-versicolor',\n",
       "       'Iris-versicolor', 'Iris-versicolor', 'Iris-versicolor',\n",
       "       'Iris-versicolor', 'Iris-versicolor', 'Iris-versicolor',\n",
       "       'Iris-versicolor', 'Iris-versicolor', 'Iris-versicolor',\n",
       "       'Iris-versicolor', 'Iris-versicolor', 'Iris-versicolor',\n",
       "       'Iris-versicolor', 'Iris-versicolor', 'Iris-versicolor',\n",
       "       'Iris-versicolor', 'Iris-versicolor', 'Iris-versicolor',\n",
       "       'Iris-versicolor', 'Iris-versicolor', 'Iris-versicolor',\n",
       "       'Iris-versicolor', 'Iris-versicolor', 'Iris-versicolor',\n",
       "       'Iris-versicolor', 'Iris-versicolor', 'Iris-versicolor',\n",
       "       'Iris-versicolor', 'Iris-versicolor', 'Iris-versicolor',\n",
       "       'Iris-versicolor', 'Iris-versicolor', 'Iris-versicolor',\n",
       "       'Iris-versicolor', 'Iris-versicolor', 'Iris-versicolor',\n",
       "       'Iris-versicolor', 'Iris-versicolor', 'Iris-versicolor',\n",
       "       'Iris-versicolor', 'Iris-versicolor', 'Iris-versicolor',\n",
       "       'Iris-versicolor', 'Iris-versicolor', 'Iris-versicolor',\n",
       "       'Iris-versicolor', 'Iris-versicolor', 'Iris-versicolor',\n",
       "       'Iris-virginica', 'Iris-virginica', 'Iris-virginica',\n",
       "       'Iris-virginica', 'Iris-virginica', 'Iris-virginica',\n",
       "       'Iris-virginica', 'Iris-virginica', 'Iris-virginica',\n",
       "       'Iris-virginica', 'Iris-virginica', 'Iris-virginica',\n",
       "       'Iris-virginica', 'Iris-virginica', 'Iris-virginica',\n",
       "       'Iris-virginica', 'Iris-virginica', 'Iris-virginica',\n",
       "       'Iris-virginica', 'Iris-virginica', 'Iris-virginica',\n",
       "       'Iris-virginica', 'Iris-virginica', 'Iris-virginica',\n",
       "       'Iris-virginica', 'Iris-virginica', 'Iris-virginica',\n",
       "       'Iris-virginica', 'Iris-virginica', 'Iris-virginica',\n",
       "       'Iris-virginica', 'Iris-virginica', 'Iris-virginica',\n",
       "       'Iris-virginica', 'Iris-virginica', 'Iris-virginica',\n",
       "       'Iris-virginica', 'Iris-virginica', 'Iris-virginica',\n",
       "       'Iris-virginica', 'Iris-virginica', 'Iris-virginica',\n",
       "       'Iris-virginica', 'Iris-virginica', 'Iris-virginica',\n",
       "       'Iris-virginica', 'Iris-virginica', 'Iris-virginica',\n",
       "       'Iris-virginica', 'Iris-virginica'], dtype=object)"
      ]
     },
     "execution_count": 8,
     "metadata": {},
     "output_type": "execute_result"
    }
   ],
   "source": [
    "y"
   ]
  },
  {
   "cell_type": "code",
   "execution_count": 9,
   "metadata": {},
   "outputs": [],
   "source": [
    "from sklearn.model_selection import train_test_split\n",
    "x_train, x_test, y_train, y_test = train_test_split(x, y, test_size = 0.20, random_state = 42)"
   ]
  },
  {
   "cell_type": "code",
   "execution_count": 10,
   "metadata": {},
   "outputs": [],
   "source": [
    "from sklearn.preprocessing import StandardScaler\n",
    "scaler = StandardScaler()\n",
    "scaler.fit(x_train)\n",
    "\n",
    "x_train = scaler.transform(x_train)\n",
    "x_test = scaler.transform(x_test)"
   ]
  },
  {
   "cell_type": "code",
   "execution_count": 14,
   "metadata": {},
   "outputs": [
    {
     "data": {
      "text/plain": [
       "array([[-1.47393679,  1.22037928, -1.5639872 , -1.30948358],\n",
       "       [-0.13307079,  3.02001693, -1.27728011, -1.04292204],\n",
       "       [ 1.08589829,  0.09560575,  0.38562104,  0.28988568],\n",
       "       [-1.23014297,  0.77046987, -1.21993869, -1.30948358],\n",
       "       [-1.7177306 ,  0.32056046, -1.39196294, -1.30948358],\n",
       "       [ 0.59831066, -1.25412249,  0.72966956,  0.95628954],\n",
       "       [ 0.72020757,  0.32056046,  0.44296246,  0.42316645],\n",
       "       [-0.74255534,  0.99542457, -1.27728011, -1.30948358],\n",
       "       [-0.98634915,  1.22037928, -1.33462153, -1.30948358],\n",
       "       [-0.74255534,  2.34515281, -1.27728011, -1.44276436],\n",
       "       [-0.01117388, -0.80421307,  0.78701097,  0.95628954],\n",
       "       [ 0.23261993,  0.77046987,  0.44296246,  0.55644722],\n",
       "       [ 1.08589829,  0.09560575,  0.5576453 ,  0.42316645],\n",
       "       [-0.49876152,  1.8952434 , -1.39196294, -1.04292204],\n",
       "       [-0.49876152,  1.44533399, -1.27728011, -1.30948358],\n",
       "       [-0.37686461, -1.47907719, -0.01576889, -0.24323741],\n",
       "       [ 0.59831066, -0.57925837,  0.78701097,  0.42316645],\n",
       "       [ 0.72020757,  0.09560575,  1.01637665,  0.82300877],\n",
       "       [ 0.96400139, -0.12934896,  0.38562104,  0.28988568],\n",
       "       [ 1.69538284,  1.22037928,  1.36042516,  1.75597417],\n",
       "       [-0.13307079, -0.35430366,  0.2709382 ,  0.15660491],\n",
       "       [ 2.18297047, -0.12934896,  1.64713226,  1.22285108],\n",
       "       [-0.2549677 , -0.12934896,  0.44296246,  0.42316645],\n",
       "       [-0.86445224,  0.99542457, -1.33462153, -1.30948358],\n",
       "       [ 2.30486738, -0.57925837,  1.70447368,  1.08957031],\n",
       "       [-0.01117388, -0.80421307,  0.21359679, -0.24323741],\n",
       "       [-0.74255534,  0.77046987, -1.33462153, -1.30948358],\n",
       "       [-0.98634915,  0.99542457, -1.39196294, -1.17620281],\n",
       "       [-0.86445224,  1.67028869, -1.04791443, -1.04292204],\n",
       "       [-0.98634915, -2.37889602, -0.13045173, -0.24323741],\n",
       "       [ 0.59831066, -0.80421307,  0.67232814,  0.82300877],\n",
       "       [-1.23014297,  0.77046987, -1.04791443, -1.30948358],\n",
       "       [-0.98634915, -0.12934896, -1.21993869, -1.30948358],\n",
       "       [-0.86445224,  0.54551516, -1.16259727, -0.90964127],\n",
       "       [-0.2549677 , -0.80421307,  0.2709382 ,  0.15660491],\n",
       "       [-0.86445224,  0.77046987, -1.27728011, -1.30948358],\n",
       "       [-0.13307079, -0.12934896,  0.2709382 ,  0.02332414],\n",
       "       [ 2.30486738,  1.67028869,  1.70447368,  1.35613185],\n",
       "       [-1.47393679,  0.32056046, -1.33462153, -1.30948358],\n",
       "       [ 0.47641375, -0.35430366,  0.32827962,  0.15660491],\n",
       "       [-0.13307079, -1.25412249,  0.72966956,  1.08957031],\n",
       "       [-0.37686461,  2.57010752, -1.33462153, -1.30948358],\n",
       "       [ 0.23261993, -0.12934896,  0.61498672,  0.82300877],\n",
       "       [-0.01117388, -0.80421307,  0.78701097,  0.95628954],\n",
       "       [ 0.23261993, -1.9289866 ,  0.15625537, -0.24323741],\n",
       "       [-0.49876152, -0.12934896,  0.44296246,  0.42316645],\n",
       "       [ 0.47641375,  0.77046987,  0.95903523,  1.48941263],\n",
       "       [-0.37686461, -1.7040319 ,  0.15625537,  0.15660491],\n",
       "       [-0.49876152,  1.8952434 , -1.16259727, -1.04292204],\n",
       "       [-0.98634915, -1.7040319 , -0.24513457, -0.24323741],\n",
       "       [ 0.72020757, -0.80421307,  0.90169381,  0.95628954],\n",
       "       [-0.98634915,  0.54551516, -1.33462153, -1.30948358],\n",
       "       [-0.98634915,  0.32056046, -1.44930436, -1.30948358],\n",
       "       [-0.37686461, -1.47907719,  0.04157253, -0.10995664],\n",
       "       [ 1.08589829, -0.12934896,  0.72966956,  0.68972799],\n",
       "       [-1.10824606,  0.09560575, -1.27728011, -1.44276436],\n",
       "       [-0.01117388, -0.57925837,  0.78701097,  1.6226934 ],\n",
       "       [-0.98634915,  0.77046987, -1.27728011, -1.30948358],\n",
       "       [-0.98634915,  0.99542457, -1.21993869, -0.7763605 ],\n",
       "       [ 0.11072303,  0.32056046,  0.61498672,  0.82300877],\n",
       "       [-0.86445224, -1.25412249, -0.41715882, -0.10995664],\n",
       "       [ 1.32969211,  0.32056046,  1.13105949,  1.48941263],\n",
       "       [ 0.23261993, -0.80421307,  0.78701097,  0.55644722],\n",
       "       [ 0.35451684, -1.02916778,  1.07371807,  0.28988568],\n",
       "       [ 2.30486738, -0.12934896,  1.36042516,  1.48941263],\n",
       "       [-0.37686461, -1.25412249,  0.15625537,  0.15660491],\n",
       "       [-1.7177306 , -0.35430366, -1.33462153, -1.30948358],\n",
       "       [-1.83962751, -0.12934896, -1.50664578, -1.44276436],\n",
       "       [ 0.23261993, -1.9289866 ,  0.72966956,  0.42316645],\n",
       "       [ 1.69538284,  0.32056046,  1.30308374,  0.82300877],\n",
       "       [-1.47393679,  0.09560575, -1.27728011, -1.30948358],\n",
       "       [-0.86445224,  0.99542457, -1.33462153, -1.17620281],\n",
       "       [-1.7177306 , -0.12934896, -1.39196294, -1.30948358],\n",
       "       [ 0.59831066, -1.25412249,  0.67232814,  0.42316645],\n",
       "       [ 0.59831066,  0.77046987,  1.07371807,  1.6226934 ],\n",
       "       [-1.47393679,  0.77046987, -1.33462153, -1.17620281],\n",
       "       [ 1.2077952 , -0.12934896,  1.01637665,  1.22285108],\n",
       "       [ 0.59831066,  0.54551516,  1.30308374,  1.75597417],\n",
       "       [-1.35203988,  0.32056046, -1.39196294, -1.30948358],\n",
       "       [ 0.35451684, -0.35430366,  0.5576453 ,  0.28988568],\n",
       "       [ 0.84210448, -0.57925837,  0.50030388,  0.42316645],\n",
       "       [ 0.47641375, -0.57925837,  0.61498672,  0.82300877],\n",
       "       [ 1.45158902,  0.32056046,  0.5576453 ,  0.28988568],\n",
       "       [ 0.72020757,  0.32056046,  0.90169381,  1.48941263],\n",
       "       [-0.86445224,  1.67028869, -1.21993869, -1.30948358],\n",
       "       [ 1.32969211,  0.09560575,  0.95903523,  1.22285108],\n",
       "       [ 0.11072303, -0.12934896,  0.2709382 ,  0.42316645],\n",
       "       [ 0.84210448, -0.12934896,  0.84435239,  1.08957031],\n",
       "       [-0.13307079, -1.02916778, -0.13045173, -0.24323741],\n",
       "       [-0.74255534, -0.80421307,  0.09891395,  0.28988568],\n",
       "       [ 0.35451684, -0.12934896,  0.50030388,  0.28988568],\n",
       "       [-1.5958337 , -1.7040319 , -1.39196294, -1.17620281],\n",
       "       [ 0.96400139, -0.35430366,  0.50030388,  0.15660491],\n",
       "       [-0.37686461, -1.02916778,  0.38562104,  0.02332414],\n",
       "       [-0.62065843,  1.44533399, -1.27728011, -1.30948358],\n",
       "       [-0.2549677 , -0.12934896,  0.21359679,  0.15660491],\n",
       "       [ 1.81727975, -0.35430366,  1.475108  ,  0.82300877],\n",
       "       [ 1.08589829,  0.54551516,  1.13105949,  1.22285108],\n",
       "       [-0.86445224,  1.44533399, -1.27728011, -1.04292204],\n",
       "       [-1.10824606, -1.47907719, -0.24513457, -0.24323741],\n",
       "       [ 1.08589829,  0.54551516,  1.13105949,  1.75597417],\n",
       "       [ 1.69538284, -0.12934896,  1.18840091,  0.55644722],\n",
       "       [-1.10824606,  0.09560575, -1.27728011, -1.44276436],\n",
       "       [ 1.08589829,  0.09560575,  1.07371807,  1.6226934 ],\n",
       "       [-1.10824606, -0.12934896, -1.33462153, -1.30948358],\n",
       "       [ 1.32969211,  0.09560575,  0.67232814,  0.42316645],\n",
       "       [ 1.93917666, -0.57925837,  1.36042516,  0.95628954],\n",
       "       [ 0.59831066, -0.35430366,  1.07371807,  0.82300877],\n",
       "       [-0.13307079, -0.57925837,  0.21359679,  0.15660491],\n",
       "       [ 0.84210448, -0.12934896,  1.01637665,  0.82300877],\n",
       "       [ 0.59831066, -1.7040319 ,  0.38562104,  0.15660491],\n",
       "       [ 0.72020757, -0.35430366,  0.32827962,  0.15660491],\n",
       "       [-0.2549677 , -0.57925837,  0.67232814,  1.08957031],\n",
       "       [ 0.11072303, -0.12934896,  0.78701097,  0.82300877],\n",
       "       [-0.49876152,  0.77046987, -1.16259727, -1.30948358],\n",
       "       [ 0.35451684, -0.57925837,  0.15625537,  0.15660491],\n",
       "       [-1.10824606, -1.25412249,  0.44296246,  0.68972799],\n",
       "       [-0.01117388,  2.1201981 , -1.44930436, -1.30948358],\n",
       "       [-0.01117388, -1.02916778,  0.15625537,  0.02332414],\n",
       "       [ 1.57348593, -0.12934896,  1.24574233,  1.22285108]])"
      ]
     },
     "execution_count": 14,
     "metadata": {},
     "output_type": "execute_result"
    }
   ],
   "source": [
    "x_train"
   ]
  },
  {
   "cell_type": "code",
   "execution_count": 15,
   "metadata": {},
   "outputs": [
    {
     "data": {
      "text/plain": [
       "KNeighborsClassifier(algorithm='auto', leaf_size=30, metric='minkowski',\n",
       "           metric_params=None, n_jobs=None, n_neighbors=9, p=2,\n",
       "           weights='uniform')"
      ]
     },
     "execution_count": 15,
     "metadata": {},
     "output_type": "execute_result"
    }
   ],
   "source": [
    "from sklearn.neighbors import KNeighborsClassifier\n",
    "classifier = KNeighborsClassifier(n_neighbors = 9)\n",
    "classifier.fit(x_train, y_train)"
   ]
  },
  {
   "cell_type": "code",
   "execution_count": 16,
   "metadata": {},
   "outputs": [],
   "source": [
    "y_pred = classifier.predict(x_test)"
   ]
  },
  {
   "cell_type": "code",
   "execution_count": 17,
   "metadata": {},
   "outputs": [
    {
     "data": {
      "text/plain": [
       "array(['Iris-versicolor', 'Iris-setosa', 'Iris-virginica',\n",
       "       'Iris-versicolor', 'Iris-versicolor', 'Iris-setosa',\n",
       "       'Iris-versicolor', 'Iris-virginica', 'Iris-versicolor',\n",
       "       'Iris-versicolor', 'Iris-virginica', 'Iris-setosa', 'Iris-setosa',\n",
       "       'Iris-setosa', 'Iris-setosa', 'Iris-versicolor', 'Iris-virginica',\n",
       "       'Iris-versicolor', 'Iris-versicolor', 'Iris-virginica',\n",
       "       'Iris-setosa', 'Iris-virginica', 'Iris-setosa', 'Iris-virginica',\n",
       "       'Iris-virginica', 'Iris-virginica', 'Iris-virginica',\n",
       "       'Iris-virginica', 'Iris-setosa', 'Iris-setosa'], dtype=object)"
      ]
     },
     "execution_count": 17,
     "metadata": {},
     "output_type": "execute_result"
    }
   ],
   "source": [
    "y_pred"
   ]
  },
  {
   "cell_type": "code",
   "execution_count": 18,
   "metadata": {},
   "outputs": [
    {
     "name": "stdout",
     "output_type": "stream",
     "text": [
      "[[10  0  0]\n",
      " [ 0  9  0]\n",
      " [ 0  0 11]]\n",
      "                 precision    recall  f1-score   support\n",
      "\n",
      "    Iris-setosa       1.00      1.00      1.00        10\n",
      "Iris-versicolor       1.00      1.00      1.00         9\n",
      " Iris-virginica       1.00      1.00      1.00        11\n",
      "\n",
      "      micro avg       1.00      1.00      1.00        30\n",
      "      macro avg       1.00      1.00      1.00        30\n",
      "   weighted avg       1.00      1.00      1.00        30\n",
      "\n"
     ]
    }
   ],
   "source": [
    "y_pred = classifier.predict(x_test)\n",
    "from sklearn.metrics import classification_report, confusion_matrix\n",
    "print(confusion_matrix(y_test, y_pred))\n",
    "print(classification_report(y_test, y_pred))"
   ]
  },
  {
   "cell_type": "code",
   "execution_count": 19,
   "metadata": {},
   "outputs": [],
   "source": [
    "y_pred_val = classifier.predict([[9.83823086e-01, -5.96729005e-02, 7.96426241e-01, 1.47998821e+00]])"
   ]
  },
  {
   "cell_type": "code",
   "execution_count": 20,
   "metadata": {},
   "outputs": [
    {
     "data": {
      "text/plain": [
       "array(['Iris-virginica'], dtype=object)"
      ]
     },
     "execution_count": 20,
     "metadata": {},
     "output_type": "execute_result"
    }
   ],
   "source": [
    "y_pred_val"
   ]
  },
  {
   "cell_type": "code",
   "execution_count": 21,
   "metadata": {},
   "outputs": [],
   "source": [
    "x_val = x_test[:2]"
   ]
  },
  {
   "cell_type": "code",
   "execution_count": 22,
   "metadata": {},
   "outputs": [
    {
     "data": {
      "text/plain": [
       "array([[ 0.35451684, -0.57925837,  0.5576453 ,  0.02332414],\n",
       "       [-0.13307079,  1.67028869, -1.16259727, -1.17620281]])"
      ]
     },
     "execution_count": 22,
     "metadata": {},
     "output_type": "execute_result"
    }
   ],
   "source": [
    "x_val"
   ]
  },
  {
   "cell_type": "code",
   "execution_count": 23,
   "metadata": {},
   "outputs": [],
   "source": [
    "y_pred_val = classifier.predict([[0.66018677, 0.5726242, 0.58996666, 0.58768322]])"
   ]
  },
  {
   "cell_type": "code",
   "execution_count": 24,
   "metadata": {},
   "outputs": [
    {
     "data": {
      "text/plain": [
       "array(['Iris-versicolor'], dtype=object)"
      ]
     },
     "execution_count": 24,
     "metadata": {},
     "output_type": "execute_result"
    }
   ],
   "source": [
    "y_pred_val"
   ]
  },
  {
   "cell_type": "code",
   "execution_count": null,
   "metadata": {},
   "outputs": [],
   "source": []
  }
 ],
 "metadata": {
  "kernelspec": {
   "display_name": "Python 3",
   "language": "python",
   "name": "python3"
  },
  "language_info": {
   "codemirror_mode": {
    "name": "ipython",
    "version": 3
   },
   "file_extension": ".py",
   "mimetype": "text/x-python",
   "name": "python",
   "nbconvert_exporter": "python",
   "pygments_lexer": "ipython3",
   "version": "3.7.1"
  }
 },
 "nbformat": 4,
 "nbformat_minor": 2
}
