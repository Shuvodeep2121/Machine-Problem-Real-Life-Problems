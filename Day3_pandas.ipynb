{
 "cells": [
  {
   "cell_type": "code",
   "execution_count": 1,
   "metadata": {},
   "outputs": [],
   "source": [
    "import pandas as pd\n",
    "import numpy as np\n",
    "import matplotlib.pyplot as plt"
   ]
  },
  {
   "cell_type": "code",
   "execution_count": 2,
   "metadata": {},
   "outputs": [
    {
     "name": "stdout",
     "output_type": "stream",
     "text": [
      "          A         B         C         D\n",
      "0  0.824609  0.696742  0.766980  0.449629\n",
      "1  0.180948  0.429490  0.442954  0.211393\n",
      "2  0.961779  0.465490  0.780605  0.861540\n",
      "3  0.425687  0.176381  0.785481  0.110585\n",
      "4  0.899314  0.934698  0.653187  0.646071\n",
      "5  0.899640  0.607753  0.451827  0.432644\n",
      "6  0.717025  0.563917  0.943835  0.002815\n",
      "7  0.349597  0.473245  0.601953  0.075131\n",
      "8  0.869156  0.182571  0.209137  0.460543\n",
      "9  0.615755  0.723924  0.427623  0.451886\n"
     ]
    }
   ],
   "source": [
    "#creating a dataframe\n",
    "#according to pandas to create random numbers use 'rand' as we are passing in pandas \n",
    "df = pd.DataFrame(np.random.rand(10,4),columns = ['A','B','C','D'])\n",
    "print(df)"
   ]
  },
  {
   "cell_type": "code",
   "execution_count": 3,
   "metadata": {},
   "outputs": [
    {
     "name": "stdout",
     "output_type": "stream",
     "text": [
      "    A    B   C   D\n",
      "0  10   20  30  40\n",
      "1  20  100  40  50\n"
     ]
    }
   ],
   "source": [
    "#creating a dtatframe with dictionary\n",
    "df2 = pd.DataFrame({'A' : [10,20], 'B' : [20,100],'C' : [30,40],'D' : [40,50]})\n",
    "print(df2)"
   ]
  },
  {
   "cell_type": "code",
   "execution_count": 4,
   "metadata": {},
   "outputs": [
    {
     "data": {
      "text/plain": [
       "A    int64\n",
       "B    int64\n",
       "C    int64\n",
       "D    int64\n",
       "dtype: object"
      ]
     },
     "execution_count": 4,
     "metadata": {},
     "output_type": "execute_result"
    }
   ],
   "source": [
    "#looking at variable types\n",
    "df2.dtypes"
   ]
  },
  {
   "cell_type": "code",
   "execution_count": 5,
   "metadata": {},
   "outputs": [
    {
     "data": {
      "text/html": [
       "<div>\n",
       "<style scoped>\n",
       "    .dataframe tbody tr th:only-of-type {\n",
       "        vertical-align: middle;\n",
       "    }\n",
       "\n",
       "    .dataframe tbody tr th {\n",
       "        vertical-align: top;\n",
       "    }\n",
       "\n",
       "    .dataframe thead th {\n",
       "        text-align: right;\n",
       "    }\n",
       "</style>\n",
       "<table border=\"1\" class=\"dataframe\">\n",
       "  <thead>\n",
       "    <tr style=\"text-align: right;\">\n",
       "      <th></th>\n",
       "      <th>A</th>\n",
       "      <th>B</th>\n",
       "      <th>C</th>\n",
       "      <th>D</th>\n",
       "    </tr>\n",
       "  </thead>\n",
       "  <tbody>\n",
       "    <tr>\n",
       "      <th>0</th>\n",
       "      <td>0.824609</td>\n",
       "      <td>0.696742</td>\n",
       "      <td>0.766980</td>\n",
       "      <td>0.449629</td>\n",
       "    </tr>\n",
       "    <tr>\n",
       "      <th>1</th>\n",
       "      <td>0.180948</td>\n",
       "      <td>0.429490</td>\n",
       "      <td>0.442954</td>\n",
       "      <td>0.211393</td>\n",
       "    </tr>\n",
       "    <tr>\n",
       "      <th>2</th>\n",
       "      <td>0.961779</td>\n",
       "      <td>0.465490</td>\n",
       "      <td>0.780605</td>\n",
       "      <td>0.861540</td>\n",
       "    </tr>\n",
       "    <tr>\n",
       "      <th>3</th>\n",
       "      <td>0.425687</td>\n",
       "      <td>0.176381</td>\n",
       "      <td>0.785481</td>\n",
       "      <td>0.110585</td>\n",
       "    </tr>\n",
       "    <tr>\n",
       "      <th>4</th>\n",
       "      <td>0.899314</td>\n",
       "      <td>0.934698</td>\n",
       "      <td>0.653187</td>\n",
       "      <td>0.646071</td>\n",
       "    </tr>\n",
       "  </tbody>\n",
       "</table>\n",
       "</div>"
      ],
      "text/plain": [
       "          A         B         C         D\n",
       "0  0.824609  0.696742  0.766980  0.449629\n",
       "1  0.180948  0.429490  0.442954  0.211393\n",
       "2  0.961779  0.465490  0.780605  0.861540\n",
       "3  0.425687  0.176381  0.785481  0.110585\n",
       "4  0.899314  0.934698  0.653187  0.646071"
      ]
     },
     "execution_count": 5,
     "metadata": {},
     "output_type": "execute_result"
    }
   ],
   "source": [
    "#looking at the top few values, default 5\n",
    "df.head()"
   ]
  },
  {
   "cell_type": "code",
   "execution_count": 6,
   "metadata": {},
   "outputs": [
    {
     "data": {
      "text/html": [
       "<div>\n",
       "<style scoped>\n",
       "    .dataframe tbody tr th:only-of-type {\n",
       "        vertical-align: middle;\n",
       "    }\n",
       "\n",
       "    .dataframe tbody tr th {\n",
       "        vertical-align: top;\n",
       "    }\n",
       "\n",
       "    .dataframe thead th {\n",
       "        text-align: right;\n",
       "    }\n",
       "</style>\n",
       "<table border=\"1\" class=\"dataframe\">\n",
       "  <thead>\n",
       "    <tr style=\"text-align: right;\">\n",
       "      <th></th>\n",
       "      <th>A</th>\n",
       "      <th>B</th>\n",
       "      <th>C</th>\n",
       "      <th>D</th>\n",
       "    </tr>\n",
       "  </thead>\n",
       "  <tbody>\n",
       "    <tr>\n",
       "      <th>5</th>\n",
       "      <td>0.899640</td>\n",
       "      <td>0.607753</td>\n",
       "      <td>0.451827</td>\n",
       "      <td>0.432644</td>\n",
       "    </tr>\n",
       "    <tr>\n",
       "      <th>6</th>\n",
       "      <td>0.717025</td>\n",
       "      <td>0.563917</td>\n",
       "      <td>0.943835</td>\n",
       "      <td>0.002815</td>\n",
       "    </tr>\n",
       "    <tr>\n",
       "      <th>7</th>\n",
       "      <td>0.349597</td>\n",
       "      <td>0.473245</td>\n",
       "      <td>0.601953</td>\n",
       "      <td>0.075131</td>\n",
       "    </tr>\n",
       "    <tr>\n",
       "      <th>8</th>\n",
       "      <td>0.869156</td>\n",
       "      <td>0.182571</td>\n",
       "      <td>0.209137</td>\n",
       "      <td>0.460543</td>\n",
       "    </tr>\n",
       "    <tr>\n",
       "      <th>9</th>\n",
       "      <td>0.615755</td>\n",
       "      <td>0.723924</td>\n",
       "      <td>0.427623</td>\n",
       "      <td>0.451886</td>\n",
       "    </tr>\n",
       "  </tbody>\n",
       "</table>\n",
       "</div>"
      ],
      "text/plain": [
       "          A         B         C         D\n",
       "5  0.899640  0.607753  0.451827  0.432644\n",
       "6  0.717025  0.563917  0.943835  0.002815\n",
       "7  0.349597  0.473245  0.601953  0.075131\n",
       "8  0.869156  0.182571  0.209137  0.460543\n",
       "9  0.615755  0.723924  0.427623  0.451886"
      ]
     },
     "execution_count": 6,
     "metadata": {},
     "output_type": "execute_result"
    }
   ],
   "source": [
    "#looking at the last few values, default 5\n",
    "df.tail()"
   ]
  },
  {
   "cell_type": "code",
   "execution_count": 7,
   "metadata": {},
   "outputs": [
    {
     "data": {
      "text/plain": [
       "RangeIndex(start=0, stop=10, step=1)"
      ]
     },
     "execution_count": 7,
     "metadata": {},
     "output_type": "execute_result"
    }
   ],
   "source": [
    "#to get indess\n",
    "df.index"
   ]
  },
  {
   "cell_type": "code",
   "execution_count": 8,
   "metadata": {},
   "outputs": [
    {
     "data": {
      "text/plain": [
       "Index(['A', 'B', 'C', 'D'], dtype='object')"
      ]
     },
     "execution_count": 8,
     "metadata": {},
     "output_type": "execute_result"
    }
   ],
   "source": [
    "#to get columns\n",
    "df.columns"
   ]
  },
  {
   "cell_type": "code",
   "execution_count": 9,
   "metadata": {},
   "outputs": [
    {
     "data": {
      "text/plain": [
       "array([[0.82460931, 0.69674246, 0.7669802 , 0.44962887],\n",
       "       [0.18094807, 0.42949045, 0.44295392, 0.2113926 ],\n",
       "       [0.96177894, 0.46549023, 0.78060516, 0.86154008],\n",
       "       [0.4256871 , 0.17638098, 0.78548136, 0.11058464],\n",
       "       [0.89931355, 0.93469782, 0.65318746, 0.64607147],\n",
       "       [0.89964028, 0.60775301, 0.45182675, 0.43264409],\n",
       "       [0.71702452, 0.56391708, 0.94383492, 0.00281505],\n",
       "       [0.34959678, 0.47324503, 0.60195283, 0.07513135],\n",
       "       [0.86915619, 0.18257073, 0.20913664, 0.46054334],\n",
       "       [0.61575505, 0.7239241 , 0.42762301, 0.45188588]])"
      ]
     },
     "execution_count": 9,
     "metadata": {},
     "output_type": "execute_result"
    }
   ],
   "source": [
    "#to get the values\n",
    "df.values"
   ]
  },
  {
   "cell_type": "code",
   "execution_count": 10,
   "metadata": {},
   "outputs": [
    {
     "data": {
      "text/html": [
       "<div>\n",
       "<style scoped>\n",
       "    .dataframe tbody tr th:only-of-type {\n",
       "        vertical-align: middle;\n",
       "    }\n",
       "\n",
       "    .dataframe tbody tr th {\n",
       "        vertical-align: top;\n",
       "    }\n",
       "\n",
       "    .dataframe thead th {\n",
       "        text-align: right;\n",
       "    }\n",
       "</style>\n",
       "<table border=\"1\" class=\"dataframe\">\n",
       "  <thead>\n",
       "    <tr style=\"text-align: right;\">\n",
       "      <th></th>\n",
       "      <th>A</th>\n",
       "      <th>B</th>\n",
       "      <th>C</th>\n",
       "      <th>D</th>\n",
       "    </tr>\n",
       "  </thead>\n",
       "  <tbody>\n",
       "    <tr>\n",
       "      <th>count</th>\n",
       "      <td>10.000000</td>\n",
       "      <td>10.000000</td>\n",
       "      <td>10.000000</td>\n",
       "      <td>10.000000</td>\n",
       "    </tr>\n",
       "    <tr>\n",
       "      <th>mean</th>\n",
       "      <td>0.674351</td>\n",
       "      <td>0.525421</td>\n",
       "      <td>0.606358</td>\n",
       "      <td>0.370224</td>\n",
       "    </tr>\n",
       "    <tr>\n",
       "      <th>std</th>\n",
       "      <td>0.270905</td>\n",
       "      <td>0.235564</td>\n",
       "      <td>0.222277</td>\n",
       "      <td>0.270230</td>\n",
       "    </tr>\n",
       "    <tr>\n",
       "      <th>min</th>\n",
       "      <td>0.180948</td>\n",
       "      <td>0.176381</td>\n",
       "      <td>0.209137</td>\n",
       "      <td>0.002815</td>\n",
       "    </tr>\n",
       "    <tr>\n",
       "      <th>25%</th>\n",
       "      <td>0.473204</td>\n",
       "      <td>0.438490</td>\n",
       "      <td>0.445172</td>\n",
       "      <td>0.135787</td>\n",
       "    </tr>\n",
       "    <tr>\n",
       "      <th>50%</th>\n",
       "      <td>0.770817</td>\n",
       "      <td>0.518581</td>\n",
       "      <td>0.627570</td>\n",
       "      <td>0.441136</td>\n",
       "    </tr>\n",
       "    <tr>\n",
       "      <th>75%</th>\n",
       "      <td>0.891774</td>\n",
       "      <td>0.674495</td>\n",
       "      <td>0.777199</td>\n",
       "      <td>0.458379</td>\n",
       "    </tr>\n",
       "    <tr>\n",
       "      <th>max</th>\n",
       "      <td>0.961779</td>\n",
       "      <td>0.934698</td>\n",
       "      <td>0.943835</td>\n",
       "      <td>0.861540</td>\n",
       "    </tr>\n",
       "  </tbody>\n",
       "</table>\n",
       "</div>"
      ],
      "text/plain": [
       "               A          B          C          D\n",
       "count  10.000000  10.000000  10.000000  10.000000\n",
       "mean    0.674351   0.525421   0.606358   0.370224\n",
       "std     0.270905   0.235564   0.222277   0.270230\n",
       "min     0.180948   0.176381   0.209137   0.002815\n",
       "25%     0.473204   0.438490   0.445172   0.135787\n",
       "50%     0.770817   0.518581   0.627570   0.441136\n",
       "75%     0.891774   0.674495   0.777199   0.458379\n",
       "max     0.961779   0.934698   0.943835   0.861540"
      ]
     },
     "execution_count": 10,
     "metadata": {},
     "output_type": "execute_result"
    }
   ],
   "source": [
    "#to get quick statistics about data\n",
    "df.describe()"
   ]
  },
  {
   "cell_type": "code",
   "execution_count": 11,
   "metadata": {},
   "outputs": [
    {
     "data": {
      "text/html": [
       "<div>\n",
       "<style scoped>\n",
       "    .dataframe tbody tr th:only-of-type {\n",
       "        vertical-align: middle;\n",
       "    }\n",
       "\n",
       "    .dataframe tbody tr th {\n",
       "        vertical-align: top;\n",
       "    }\n",
       "\n",
       "    .dataframe thead th {\n",
       "        text-align: right;\n",
       "    }\n",
       "</style>\n",
       "<table border=\"1\" class=\"dataframe\">\n",
       "  <thead>\n",
       "    <tr style=\"text-align: right;\">\n",
       "      <th></th>\n",
       "      <th>A</th>\n",
       "      <th>B</th>\n",
       "      <th>C</th>\n",
       "      <th>D</th>\n",
       "    </tr>\n",
       "  </thead>\n",
       "  <tbody>\n",
       "    <tr>\n",
       "      <th>9</th>\n",
       "      <td>0.615755</td>\n",
       "      <td>0.723924</td>\n",
       "      <td>0.427623</td>\n",
       "      <td>0.451886</td>\n",
       "    </tr>\n",
       "    <tr>\n",
       "      <th>8</th>\n",
       "      <td>0.869156</td>\n",
       "      <td>0.182571</td>\n",
       "      <td>0.209137</td>\n",
       "      <td>0.460543</td>\n",
       "    </tr>\n",
       "    <tr>\n",
       "      <th>7</th>\n",
       "      <td>0.349597</td>\n",
       "      <td>0.473245</td>\n",
       "      <td>0.601953</td>\n",
       "      <td>0.075131</td>\n",
       "    </tr>\n",
       "    <tr>\n",
       "      <th>6</th>\n",
       "      <td>0.717025</td>\n",
       "      <td>0.563917</td>\n",
       "      <td>0.943835</td>\n",
       "      <td>0.002815</td>\n",
       "    </tr>\n",
       "    <tr>\n",
       "      <th>5</th>\n",
       "      <td>0.899640</td>\n",
       "      <td>0.607753</td>\n",
       "      <td>0.451827</td>\n",
       "      <td>0.432644</td>\n",
       "    </tr>\n",
       "    <tr>\n",
       "      <th>4</th>\n",
       "      <td>0.899314</td>\n",
       "      <td>0.934698</td>\n",
       "      <td>0.653187</td>\n",
       "      <td>0.646071</td>\n",
       "    </tr>\n",
       "    <tr>\n",
       "      <th>3</th>\n",
       "      <td>0.425687</td>\n",
       "      <td>0.176381</td>\n",
       "      <td>0.785481</td>\n",
       "      <td>0.110585</td>\n",
       "    </tr>\n",
       "    <tr>\n",
       "      <th>2</th>\n",
       "      <td>0.961779</td>\n",
       "      <td>0.465490</td>\n",
       "      <td>0.780605</td>\n",
       "      <td>0.861540</td>\n",
       "    </tr>\n",
       "    <tr>\n",
       "      <th>1</th>\n",
       "      <td>0.180948</td>\n",
       "      <td>0.429490</td>\n",
       "      <td>0.442954</td>\n",
       "      <td>0.211393</td>\n",
       "    </tr>\n",
       "    <tr>\n",
       "      <th>0</th>\n",
       "      <td>0.824609</td>\n",
       "      <td>0.696742</td>\n",
       "      <td>0.766980</td>\n",
       "      <td>0.449629</td>\n",
       "    </tr>\n",
       "  </tbody>\n",
       "</table>\n",
       "</div>"
      ],
      "text/plain": [
       "          A         B         C         D\n",
       "9  0.615755  0.723924  0.427623  0.451886\n",
       "8  0.869156  0.182571  0.209137  0.460543\n",
       "7  0.349597  0.473245  0.601953  0.075131\n",
       "6  0.717025  0.563917  0.943835  0.002815\n",
       "5  0.899640  0.607753  0.451827  0.432644\n",
       "4  0.899314  0.934698  0.653187  0.646071\n",
       "3  0.425687  0.176381  0.785481  0.110585\n",
       "2  0.961779  0.465490  0.780605  0.861540\n",
       "1  0.180948  0.429490  0.442954  0.211393\n",
       "0  0.824609  0.696742  0.766980  0.449629"
      ]
     },
     "execution_count": 11,
     "metadata": {},
     "output_type": "execute_result"
    }
   ],
   "source": [
    "#for sorting_index the index\n",
    "# axis=0 means rows and axis=1 means columns\n",
    "df.sort_index(axis=0, ascending=False)"
   ]
  },
  {
   "cell_type": "code",
   "execution_count": 12,
   "metadata": {},
   "outputs": [
    {
     "data": {
      "text/html": [
       "<div>\n",
       "<style scoped>\n",
       "    .dataframe tbody tr th:only-of-type {\n",
       "        vertical-align: middle;\n",
       "    }\n",
       "\n",
       "    .dataframe tbody tr th {\n",
       "        vertical-align: top;\n",
       "    }\n",
       "\n",
       "    .dataframe thead th {\n",
       "        text-align: right;\n",
       "    }\n",
       "</style>\n",
       "<table border=\"1\" class=\"dataframe\">\n",
       "  <thead>\n",
       "    <tr style=\"text-align: right;\">\n",
       "      <th></th>\n",
       "      <th>A</th>\n",
       "      <th>B</th>\n",
       "      <th>C</th>\n",
       "      <th>D</th>\n",
       "    </tr>\n",
       "  </thead>\n",
       "  <tbody>\n",
       "    <tr>\n",
       "      <th>1</th>\n",
       "      <td>0.180948</td>\n",
       "      <td>0.429490</td>\n",
       "      <td>0.442954</td>\n",
       "      <td>0.211393</td>\n",
       "    </tr>\n",
       "    <tr>\n",
       "      <th>7</th>\n",
       "      <td>0.349597</td>\n",
       "      <td>0.473245</td>\n",
       "      <td>0.601953</td>\n",
       "      <td>0.075131</td>\n",
       "    </tr>\n",
       "    <tr>\n",
       "      <th>3</th>\n",
       "      <td>0.425687</td>\n",
       "      <td>0.176381</td>\n",
       "      <td>0.785481</td>\n",
       "      <td>0.110585</td>\n",
       "    </tr>\n",
       "    <tr>\n",
       "      <th>9</th>\n",
       "      <td>0.615755</td>\n",
       "      <td>0.723924</td>\n",
       "      <td>0.427623</td>\n",
       "      <td>0.451886</td>\n",
       "    </tr>\n",
       "    <tr>\n",
       "      <th>6</th>\n",
       "      <td>0.717025</td>\n",
       "      <td>0.563917</td>\n",
       "      <td>0.943835</td>\n",
       "      <td>0.002815</td>\n",
       "    </tr>\n",
       "    <tr>\n",
       "      <th>0</th>\n",
       "      <td>0.824609</td>\n",
       "      <td>0.696742</td>\n",
       "      <td>0.766980</td>\n",
       "      <td>0.449629</td>\n",
       "    </tr>\n",
       "    <tr>\n",
       "      <th>8</th>\n",
       "      <td>0.869156</td>\n",
       "      <td>0.182571</td>\n",
       "      <td>0.209137</td>\n",
       "      <td>0.460543</td>\n",
       "    </tr>\n",
       "    <tr>\n",
       "      <th>4</th>\n",
       "      <td>0.899314</td>\n",
       "      <td>0.934698</td>\n",
       "      <td>0.653187</td>\n",
       "      <td>0.646071</td>\n",
       "    </tr>\n",
       "    <tr>\n",
       "      <th>5</th>\n",
       "      <td>0.899640</td>\n",
       "      <td>0.607753</td>\n",
       "      <td>0.451827</td>\n",
       "      <td>0.432644</td>\n",
       "    </tr>\n",
       "    <tr>\n",
       "      <th>2</th>\n",
       "      <td>0.961779</td>\n",
       "      <td>0.465490</td>\n",
       "      <td>0.780605</td>\n",
       "      <td>0.861540</td>\n",
       "    </tr>\n",
       "  </tbody>\n",
       "</table>\n",
       "</div>"
      ],
      "text/plain": [
       "          A         B         C         D\n",
       "1  0.180948  0.429490  0.442954  0.211393\n",
       "7  0.349597  0.473245  0.601953  0.075131\n",
       "3  0.425687  0.176381  0.785481  0.110585\n",
       "9  0.615755  0.723924  0.427623  0.451886\n",
       "6  0.717025  0.563917  0.943835  0.002815\n",
       "0  0.824609  0.696742  0.766980  0.449629\n",
       "8  0.869156  0.182571  0.209137  0.460543\n",
       "4  0.899314  0.934698  0.653187  0.646071\n",
       "5  0.899640  0.607753  0.451827  0.432644\n",
       "2  0.961779  0.465490  0.780605  0.861540"
      ]
     },
     "execution_count": 12,
     "metadata": {},
     "output_type": "execute_result"
    }
   ],
   "source": [
    "#for sorting by a column\n",
    "df.sort_values(by='A')"
   ]
  },
  {
   "cell_type": "code",
   "execution_count": 13,
   "metadata": {},
   "outputs": [
    {
     "data": {
      "text/plain": [
       "0    0.824609\n",
       "1    0.180948\n",
       "2    0.961779\n",
       "3    0.425687\n",
       "4    0.899314\n",
       "5    0.899640\n",
       "6    0.717025\n",
       "7    0.349597\n",
       "8    0.869156\n",
       "9    0.615755\n",
       "Name: A, dtype: float64"
      ]
     },
     "execution_count": 13,
     "metadata": {},
     "output_type": "execute_result"
    }
   ],
   "source": [
    "#Selecting values\n",
    "df['A']"
   ]
  },
  {
   "cell_type": "code",
   "execution_count": 14,
   "metadata": {},
   "outputs": [
    {
     "data": {
      "text/html": [
       "<div>\n",
       "<style scoped>\n",
       "    .dataframe tbody tr th:only-of-type {\n",
       "        vertical-align: middle;\n",
       "    }\n",
       "\n",
       "    .dataframe tbody tr th {\n",
       "        vertical-align: top;\n",
       "    }\n",
       "\n",
       "    .dataframe thead th {\n",
       "        text-align: right;\n",
       "    }\n",
       "</style>\n",
       "<table border=\"1\" class=\"dataframe\">\n",
       "  <thead>\n",
       "    <tr style=\"text-align: right;\">\n",
       "      <th></th>\n",
       "      <th>A</th>\n",
       "      <th>B</th>\n",
       "      <th>C</th>\n",
       "      <th>D</th>\n",
       "    </tr>\n",
       "  </thead>\n",
       "  <tbody>\n",
       "    <tr>\n",
       "      <th>0</th>\n",
       "      <td>0.824609</td>\n",
       "      <td>0.696742</td>\n",
       "      <td>0.766980</td>\n",
       "      <td>0.449629</td>\n",
       "    </tr>\n",
       "    <tr>\n",
       "      <th>1</th>\n",
       "      <td>0.180948</td>\n",
       "      <td>0.429490</td>\n",
       "      <td>0.442954</td>\n",
       "      <td>0.211393</td>\n",
       "    </tr>\n",
       "  </tbody>\n",
       "</table>\n",
       "</div>"
      ],
      "text/plain": [
       "          A         B         C         D\n",
       "0  0.824609  0.696742  0.766980  0.449629\n",
       "1  0.180948  0.429490  0.442954  0.211393"
      ]
     },
     "execution_count": 14,
     "metadata": {},
     "output_type": "execute_result"
    }
   ],
   "source": [
    "#selecting range of rows\n",
    "df[0:2]"
   ]
  },
  {
   "cell_type": "code",
   "execution_count": 15,
   "metadata": {},
   "outputs": [
    {
     "data": {
      "text/plain": [
       "A    0.824609\n",
       "B    0.696742\n",
       "C    0.766980\n",
       "D    0.449629\n",
       "Name: 0, dtype: float64"
      ]
     },
     "execution_count": 15,
     "metadata": {},
     "output_type": "execute_result"
    }
   ],
   "source": [
    "#selecting a particular row\n",
    "df.loc[0]"
   ]
  },
  {
   "cell_type": "code",
   "execution_count": 16,
   "metadata": {},
   "outputs": [
    {
     "data": {
      "text/plain": [
       "A    0.824609\n",
       "Name: 0, dtype: float64"
      ]
     },
     "execution_count": 16,
     "metadata": {},
     "output_type": "execute_result"
    }
   ],
   "source": [
    "#selecting a row and column\n",
    "df.loc[0,['A']]"
   ]
  },
  {
   "cell_type": "code",
   "execution_count": 17,
   "metadata": {},
   "outputs": [
    {
     "data": {
      "text/html": [
       "<div>\n",
       "<style scoped>\n",
       "    .dataframe tbody tr th:only-of-type {\n",
       "        vertical-align: middle;\n",
       "    }\n",
       "\n",
       "    .dataframe tbody tr th {\n",
       "        vertical-align: top;\n",
       "    }\n",
       "\n",
       "    .dataframe thead th {\n",
       "        text-align: right;\n",
       "    }\n",
       "</style>\n",
       "<table border=\"1\" class=\"dataframe\">\n",
       "  <thead>\n",
       "    <tr style=\"text-align: right;\">\n",
       "      <th></th>\n",
       "      <th>A</th>\n",
       "    </tr>\n",
       "  </thead>\n",
       "  <tbody>\n",
       "    <tr>\n",
       "      <th>0</th>\n",
       "      <td>0.824609</td>\n",
       "    </tr>\n",
       "    <tr>\n",
       "      <th>1</th>\n",
       "      <td>0.180948</td>\n",
       "    </tr>\n",
       "    <tr>\n",
       "      <th>2</th>\n",
       "      <td>0.961779</td>\n",
       "    </tr>\n",
       "    <tr>\n",
       "      <th>3</th>\n",
       "      <td>0.425687</td>\n",
       "    </tr>\n",
       "    <tr>\n",
       "      <th>4</th>\n",
       "      <td>0.899314</td>\n",
       "    </tr>\n",
       "    <tr>\n",
       "      <th>5</th>\n",
       "      <td>0.899640</td>\n",
       "    </tr>\n",
       "    <tr>\n",
       "      <th>6</th>\n",
       "      <td>0.717025</td>\n",
       "    </tr>\n",
       "    <tr>\n",
       "      <th>7</th>\n",
       "      <td>0.349597</td>\n",
       "    </tr>\n",
       "    <tr>\n",
       "      <th>8</th>\n",
       "      <td>0.869156</td>\n",
       "    </tr>\n",
       "    <tr>\n",
       "      <th>9</th>\n",
       "      <td>0.615755</td>\n",
       "    </tr>\n",
       "  </tbody>\n",
       "</table>\n",
       "</div>"
      ],
      "text/plain": [
       "          A\n",
       "0  0.824609\n",
       "1  0.180948\n",
       "2  0.961779\n",
       "3  0.425687\n",
       "4  0.899314\n",
       "5  0.899640\n",
       "6  0.717025\n",
       "7  0.349597\n",
       "8  0.869156\n",
       "9  0.615755"
      ]
     },
     "execution_count": 17,
     "metadata": {},
     "output_type": "execute_result"
    }
   ],
   "source": [
    "df.loc[:,['A']]"
   ]
  },
  {
   "cell_type": "code",
   "execution_count": 18,
   "metadata": {},
   "outputs": [
    {
     "data": {
      "text/plain": [
       "0.8246093138749087"
      ]
     },
     "execution_count": 18,
     "metadata": {},
     "output_type": "execute_result"
    }
   ],
   "source": [
    "#using at instead for faster access, can not be used for a range\n",
    "df.at[0,'A']"
   ]
  },
  {
   "cell_type": "code",
   "execution_count": 19,
   "metadata": {},
   "outputs": [
    {
     "data": {
      "text/plain": [
       "A    0.824609\n",
       "B    0.696742\n",
       "C    0.766980\n",
       "D    0.449629\n",
       "Name: 0, dtype: float64"
      ]
     },
     "execution_count": 19,
     "metadata": {},
     "output_type": "execute_result"
    }
   ],
   "source": [
    "#selecting by position\n",
    "df.iloc[0]"
   ]
  },
  {
   "cell_type": "code",
   "execution_count": 20,
   "metadata": {
    "scrolled": true
   },
   "outputs": [
    {
     "data": {
      "text/html": [
       "<div>\n",
       "<style scoped>\n",
       "    .dataframe tbody tr th:only-of-type {\n",
       "        vertical-align: middle;\n",
       "    }\n",
       "\n",
       "    .dataframe tbody tr th {\n",
       "        vertical-align: top;\n",
       "    }\n",
       "\n",
       "    .dataframe thead th {\n",
       "        text-align: right;\n",
       "    }\n",
       "</style>\n",
       "<table border=\"1\" class=\"dataframe\">\n",
       "  <thead>\n",
       "    <tr style=\"text-align: right;\">\n",
       "      <th></th>\n",
       "      <th>A</th>\n",
       "      <th>B</th>\n",
       "      <th>C</th>\n",
       "      <th>D</th>\n",
       "    </tr>\n",
       "  </thead>\n",
       "  <tbody>\n",
       "    <tr>\n",
       "      <th>0</th>\n",
       "      <td>0.824609</td>\n",
       "      <td>0.696742</td>\n",
       "      <td>0.766980</td>\n",
       "      <td>0.449629</td>\n",
       "    </tr>\n",
       "    <tr>\n",
       "      <th>1</th>\n",
       "      <td>0.180948</td>\n",
       "      <td>0.429490</td>\n",
       "      <td>0.442954</td>\n",
       "      <td>0.211393</td>\n",
       "    </tr>\n",
       "    <tr>\n",
       "      <th>2</th>\n",
       "      <td>0.961779</td>\n",
       "      <td>0.465490</td>\n",
       "      <td>0.780605</td>\n",
       "      <td>0.861540</td>\n",
       "    </tr>\n",
       "    <tr>\n",
       "      <th>3</th>\n",
       "      <td>0.425687</td>\n",
       "      <td>0.176381</td>\n",
       "      <td>0.785481</td>\n",
       "      <td>0.110585</td>\n",
       "    </tr>\n",
       "    <tr>\n",
       "      <th>4</th>\n",
       "      <td>0.899314</td>\n",
       "      <td>0.934698</td>\n",
       "      <td>0.653187</td>\n",
       "      <td>0.646071</td>\n",
       "    </tr>\n",
       "    <tr>\n",
       "      <th>5</th>\n",
       "      <td>0.899640</td>\n",
       "      <td>0.607753</td>\n",
       "      <td>0.451827</td>\n",
       "      <td>0.432644</td>\n",
       "    </tr>\n",
       "    <tr>\n",
       "      <th>6</th>\n",
       "      <td>0.717025</td>\n",
       "      <td>0.563917</td>\n",
       "      <td>0.943835</td>\n",
       "      <td>0.002815</td>\n",
       "    </tr>\n",
       "    <tr>\n",
       "      <th>7</th>\n",
       "      <td>0.349597</td>\n",
       "      <td>0.473245</td>\n",
       "      <td>0.601953</td>\n",
       "      <td>0.075131</td>\n",
       "    </tr>\n",
       "    <tr>\n",
       "      <th>8</th>\n",
       "      <td>0.869156</td>\n",
       "      <td>0.182571</td>\n",
       "      <td>0.209137</td>\n",
       "      <td>0.460543</td>\n",
       "    </tr>\n",
       "    <tr>\n",
       "      <th>9</th>\n",
       "      <td>0.615755</td>\n",
       "      <td>0.723924</td>\n",
       "      <td>0.427623</td>\n",
       "      <td>0.451886</td>\n",
       "    </tr>\n",
       "  </tbody>\n",
       "</table>\n",
       "</div>"
      ],
      "text/plain": [
       "          A         B         C         D\n",
       "0  0.824609  0.696742  0.766980  0.449629\n",
       "1  0.180948  0.429490  0.442954  0.211393\n",
       "2  0.961779  0.465490  0.780605  0.861540\n",
       "3  0.425687  0.176381  0.785481  0.110585\n",
       "4  0.899314  0.934698  0.653187  0.646071\n",
       "5  0.899640  0.607753  0.451827  0.432644\n",
       "6  0.717025  0.563917  0.943835  0.002815\n",
       "7  0.349597  0.473245  0.601953  0.075131\n",
       "8  0.869156  0.182571  0.209137  0.460543\n",
       "9  0.615755  0.723924  0.427623  0.451886"
      ]
     },
     "execution_count": 20,
     "metadata": {},
     "output_type": "execute_result"
    }
   ],
   "source": [
    "#selecting by condition\n",
    "df[df.A>0]"
   ]
  },
  {
   "cell_type": "code",
   "execution_count": 21,
   "metadata": {},
   "outputs": [
    {
     "name": "stdout",
     "output_type": "stream",
     "text": [
      "          A         B         C         D\n",
      "0       NaN       NaN       NaN  0.449629\n",
      "1  0.180948  0.429490  0.442954  0.211393\n",
      "2       NaN  0.465490       NaN       NaN\n",
      "3  0.425687  0.176381       NaN  0.110585\n",
      "4       NaN       NaN       NaN       NaN\n",
      "5       NaN       NaN  0.451827  0.432644\n",
      "6       NaN       NaN       NaN  0.002815\n",
      "7  0.349597  0.473245       NaN  0.075131\n",
      "8       NaN  0.182571  0.209137  0.460543\n",
      "9       NaN       NaN  0.427623  0.451886\n"
     ]
    }
   ],
   "source": [
    "#missing data\n",
    "df2 = df[df<.5]\n",
    "print(df2)"
   ]
  },
  {
   "cell_type": "code",
   "execution_count": 22,
   "metadata": {},
   "outputs": [
    {
     "data": {
      "text/html": [
       "<div>\n",
       "<style scoped>\n",
       "    .dataframe tbody tr th:only-of-type {\n",
       "        vertical-align: middle;\n",
       "    }\n",
       "\n",
       "    .dataframe tbody tr th {\n",
       "        vertical-align: top;\n",
       "    }\n",
       "\n",
       "    .dataframe thead th {\n",
       "        text-align: right;\n",
       "    }\n",
       "</style>\n",
       "<table border=\"1\" class=\"dataframe\">\n",
       "  <thead>\n",
       "    <tr style=\"text-align: right;\">\n",
       "      <th></th>\n",
       "      <th>A</th>\n",
       "      <th>B</th>\n",
       "      <th>C</th>\n",
       "      <th>D</th>\n",
       "    </tr>\n",
       "  </thead>\n",
       "  <tbody>\n",
       "    <tr>\n",
       "      <th>1</th>\n",
       "      <td>0.180948</td>\n",
       "      <td>0.42949</td>\n",
       "      <td>0.442954</td>\n",
       "      <td>0.211393</td>\n",
       "    </tr>\n",
       "  </tbody>\n",
       "</table>\n",
       "</div>"
      ],
      "text/plain": [
       "          A        B         C         D\n",
       "1  0.180948  0.42949  0.442954  0.211393"
      ]
     },
     "execution_count": 22,
     "metadata": {},
     "output_type": "execute_result"
    }
   ],
   "source": [
    "#drop all rows which have NaN\n",
    "df2.dropna()"
   ]
  },
  {
   "cell_type": "code",
   "execution_count": 23,
   "metadata": {},
   "outputs": [
    {
     "data": {
      "text/html": [
       "<div>\n",
       "<style scoped>\n",
       "    .dataframe tbody tr th:only-of-type {\n",
       "        vertical-align: middle;\n",
       "    }\n",
       "\n",
       "    .dataframe tbody tr th {\n",
       "        vertical-align: top;\n",
       "    }\n",
       "\n",
       "    .dataframe thead th {\n",
       "        text-align: right;\n",
       "    }\n",
       "</style>\n",
       "<table border=\"1\" class=\"dataframe\">\n",
       "  <thead>\n",
       "    <tr style=\"text-align: right;\">\n",
       "      <th></th>\n",
       "      <th>A</th>\n",
       "      <th>B</th>\n",
       "      <th>C</th>\n",
       "      <th>D</th>\n",
       "    </tr>\n",
       "  </thead>\n",
       "  <tbody>\n",
       "    <tr>\n",
       "      <th>0</th>\n",
       "      <td>1.000000</td>\n",
       "      <td>1.000000</td>\n",
       "      <td>1.000000</td>\n",
       "      <td>0.449629</td>\n",
       "    </tr>\n",
       "    <tr>\n",
       "      <th>1</th>\n",
       "      <td>0.180948</td>\n",
       "      <td>0.429490</td>\n",
       "      <td>0.442954</td>\n",
       "      <td>0.211393</td>\n",
       "    </tr>\n",
       "    <tr>\n",
       "      <th>2</th>\n",
       "      <td>1.000000</td>\n",
       "      <td>0.465490</td>\n",
       "      <td>1.000000</td>\n",
       "      <td>1.000000</td>\n",
       "    </tr>\n",
       "    <tr>\n",
       "      <th>3</th>\n",
       "      <td>0.425687</td>\n",
       "      <td>0.176381</td>\n",
       "      <td>1.000000</td>\n",
       "      <td>0.110585</td>\n",
       "    </tr>\n",
       "    <tr>\n",
       "      <th>4</th>\n",
       "      <td>1.000000</td>\n",
       "      <td>1.000000</td>\n",
       "      <td>1.000000</td>\n",
       "      <td>1.000000</td>\n",
       "    </tr>\n",
       "    <tr>\n",
       "      <th>5</th>\n",
       "      <td>1.000000</td>\n",
       "      <td>1.000000</td>\n",
       "      <td>0.451827</td>\n",
       "      <td>0.432644</td>\n",
       "    </tr>\n",
       "    <tr>\n",
       "      <th>6</th>\n",
       "      <td>1.000000</td>\n",
       "      <td>1.000000</td>\n",
       "      <td>1.000000</td>\n",
       "      <td>0.002815</td>\n",
       "    </tr>\n",
       "    <tr>\n",
       "      <th>7</th>\n",
       "      <td>0.349597</td>\n",
       "      <td>0.473245</td>\n",
       "      <td>1.000000</td>\n",
       "      <td>0.075131</td>\n",
       "    </tr>\n",
       "    <tr>\n",
       "      <th>8</th>\n",
       "      <td>1.000000</td>\n",
       "      <td>0.182571</td>\n",
       "      <td>0.209137</td>\n",
       "      <td>0.460543</td>\n",
       "    </tr>\n",
       "    <tr>\n",
       "      <th>9</th>\n",
       "      <td>1.000000</td>\n",
       "      <td>1.000000</td>\n",
       "      <td>0.427623</td>\n",
       "      <td>0.451886</td>\n",
       "    </tr>\n",
       "  </tbody>\n",
       "</table>\n",
       "</div>"
      ],
      "text/plain": [
       "          A         B         C         D\n",
       "0  1.000000  1.000000  1.000000  0.449629\n",
       "1  0.180948  0.429490  0.442954  0.211393\n",
       "2  1.000000  0.465490  1.000000  1.000000\n",
       "3  0.425687  0.176381  1.000000  0.110585\n",
       "4  1.000000  1.000000  1.000000  1.000000\n",
       "5  1.000000  1.000000  0.451827  0.432644\n",
       "6  1.000000  1.000000  1.000000  0.002815\n",
       "7  0.349597  0.473245  1.000000  0.075131\n",
       "8  1.000000  0.182571  0.209137  0.460543\n",
       "9  1.000000  1.000000  0.427623  0.451886"
      ]
     },
     "execution_count": 23,
     "metadata": {},
     "output_type": "execute_result"
    }
   ],
   "source": [
    "#replace NaN with other values\n",
    "df2.fillna(value=1)"
   ]
  },
  {
   "cell_type": "code",
   "execution_count": 24,
   "metadata": {},
   "outputs": [
    {
     "data": {
      "text/plain": [
       "A    0.674351\n",
       "B    0.525421\n",
       "C    0.606358\n",
       "D    0.370224\n",
       "dtype: float64"
      ]
     },
     "execution_count": 24,
     "metadata": {},
     "output_type": "execute_result"
    }
   ],
   "source": [
    "#statistical operation\n",
    "#taking mean\n",
    "df.mean()"
   ]
  },
  {
   "cell_type": "code",
   "execution_count": 25,
   "metadata": {},
   "outputs": [
    {
     "data": {
      "text/plain": [
       "0    0.684490\n",
       "1    0.316196\n",
       "2    0.767354\n",
       "3    0.374534\n",
       "4    0.783318\n",
       "5    0.597966\n",
       "6    0.556898\n",
       "7    0.374981\n",
       "8    0.430352\n",
       "9    0.554797\n",
       "dtype: float64"
      ]
     },
     "execution_count": 25,
     "metadata": {},
     "output_type": "execute_result"
    }
   ],
   "source": [
    "#mean in other axis\n",
    "df.mean(1)"
   ]
  },
  {
   "cell_type": "code",
   "execution_count": 27,
   "metadata": {},
   "outputs": [],
   "source": [
    "# read_csv and to_csv functions are used to read csv data and write to csv respectively\n",
    "#  data = pd.read_csv(\"path.csv\")"
   ]
  },
  {
   "cell_type": "code",
   "execution_count": null,
   "metadata": {},
   "outputs": [],
   "source": []
  }
 ],
 "metadata": {
  "kernelspec": {
   "display_name": "Python 3",
   "language": "python",
   "name": "python3"
  },
  "language_info": {
   "codemirror_mode": {
    "name": "ipython",
    "version": 3
   },
   "file_extension": ".py",
   "mimetype": "text/x-python",
   "name": "python",
   "nbconvert_exporter": "python",
   "pygments_lexer": "ipython3",
   "version": "3.7.1"
  }
 },
 "nbformat": 4,
 "nbformat_minor": 2
}
